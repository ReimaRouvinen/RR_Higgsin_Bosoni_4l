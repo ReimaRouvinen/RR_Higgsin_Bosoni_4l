{
 "cells": [
  {
   "cell_type": "markdown",
   "metadata": {},
   "source": [
    "# HIGGSIN BOSONI (H→ZZ→4l)"
   ]
  },
  {
   "cell_type": "markdown",
   "metadata": {},
   "source": [
    "Tässä esimerkissä käydään läpi miten Higgsin bosonia etsittiin ja miten tieteellinen tutkimus usein toimii.\n",
    "\n",
    "Käytetty data on aitoa, merkityksellistä mittausdataa kokeista, joissa Higgsin bosonin olemassaolo todistettiin. Tätä seurasikin sitten pian Nobelin palkinto. Nyt tuo data on myös sinun tutkittavanasi sen sijaan, että se piilottelisi jossain valmiiden kuvien takana. Data tuodaan esille käyttäen python-ohjelmointikieltä.\n",
    "\n",
    "Metodi on hyvin yleispätevä ja käytössä monilla tieteenaloilla. Kun meillä on jonkinlaista teoriapohjaa, voimme tehdä mittauksia ja vertailla tuloksia oletuksiimme. Ehkäpä tulokset vahvistavat odotuksemme, kenties niistä nousee uusia kysymyksiä, voi olla että joudumme korjaamaan teorioitamme tai jopa kehittämään aivan uusia selittääksemme havainnot. Tämä sykli sitten toistuu uudelleen ja uudelleen porautuessamme syvemmälle luonnon toimintaan.\n",
    "\n",
    "Aloitetaanpa Higgsin bosonin metsästys!"
   ]
  },
  {
   "cell_type": "code",
   "execution_count": null,
   "metadata": {},
   "outputs": [],
   "source": [
    "# Tuodaan tarvittavat python-paketit\n",
    "# Python-solut saat suoritettua näppäämällä Run-painiketta!\n",
    "import numpy as np\n",
    "import pandas as pd\n",
    "import matplotlib.pyplot as plt\n",
    "import matplotlib.animation\n",
    "print(\"Python-paketit on nyt tuotu\")"
   ]
  },
  {
   "cell_type": "code",
   "execution_count": null,
   "metadata": {},
   "outputs": [],
   "source": [
    "# Tässä haetaan CERN:n avoin data portaalista useita eri datatiedostoja\n",
    "# Mitä enemmän dataa, sitä varmempia tuloksia Higgsin löytymisestä voimme saada!\n",
    "try:\n",
    "    csvs = [pd.read_csv('http://opendata.cern.ch/record/5200/files/4mu_2011.csv')] \n",
    "    csvs += [pd.read_csv('http://opendata.cern.ch/record/5200/files/4e_2011.csv')]\n",
    "    csvs += [pd.read_csv('http://opendata.cern.ch/record/5200/files/2e2mu_2011.csv')]\n",
    "    csvs += [pd.read_csv('http://opendata.cern.ch/record/5200/files/4mu_2012.csv')]\n",
    "    csvs += [pd.read_csv('http://opendata.cern.ch/record/5200/files/4e_2012.csv')]\n",
    "    csvs += [pd.read_csv('http://opendata.cern.ch/record/5200/files/2e2mu_2012.csv')]\n",
    "    fourlep = pd.concat(csvs)\n",
    "    print(\"Tiedoston lukeminen onnistui\")\n",
    "except:\n",
    "    print(\"Tiedoston lukeminen ei onnistunut\")"
   ]
  },
  {
   "cell_type": "markdown",
   "metadata": {},
   "source": [
    "Standardimallin ennusteiden mukaan Higgsin bosoni voi hajota mm. siten, että siitä syntyy ensin kaksi Z-bosonia ja niistä edelleen neljä leptonia (elektroneja, myoneja...). Neljä leptonia voi kuitenkin syntyä myös monista muista prosesseista, jotka vaikeuttavat tehtäväämme Higgsin bosonin metsästyksessä. Nämä muut prosessit ovat analyysissämme siis taustakohinaa, josta meidän tulisi erottaa ne prosessit, joissa Higgsin hiukkanen on ollut osallisena. Teoria itsessään ei kerro paljoakaan siitä, mikä Higgsin hiukkasen massa voisi olla, mutta valistuneilla arvauksilla päästään aika pitkälle. Esimerkiksi hiukkasen hajoaminen neljään leptoniin on todennäköisempää tietyillä massoilla, joten kohdistetaan etsintämme näihin massoihin.\n",
    "\n",
    "Tarkoituksenamme on tutkia törmäyksessä syntyneille neljälle leptonille laskettua invarianttia massaa toisaalta sijoittamalla kuvaajaan usean törmäyksen datasta mittauspisteet pisterajoineen ja toisaalta tekemällä mittausaineistosta histogrammi."
   ]
  },
  {
   "cell_type": "code",
   "execution_count": null,
   "metadata": {},
   "outputs": [],
   "source": [
    "rmin = 70\n",
    "rmax = 181\n",
    "nbins = 37\n",
    "\n",
    "fig, kuva = plt.subplots(1, 2, figsize=(16, 6))\n",
    "\n",
    "hist, bins, patches = kuva[0].hist(fourlep['M'], bins = nbins, range = (rmin,rmax))\n",
    "kuva[0].set_title('Mittausaineisto histogrammina')\n",
    "kuva[0].set_xlabel('4l invariantti massa (GeV/c²)', fontsize = 10)\n",
    "kuva[0].set_ylabel('Tapahtumia\\n', fontsize = 10)\n",
    "kuva[0].set_ylim(0,25)\n",
    "\n",
    "width = 1.0*(bins[1] - bins[0])\n",
    "center = (bins[:-1] + bins[1:]) / 2\n",
    "xerrs = [width*0.5 for i in range(0, nbins)]\n",
    "yerrs = np.sqrt(hist)\n",
    "\n",
    "data_bar = kuva[1].errorbar(center, hist, xerr = xerrs, yerr = yerrs, linestyle = 'None', color = 'black',\n",
    "                        marker = 'o', label = 'Data')\n",
    "kuva[1].set_title('Mittausaineisto virherajoineen')\n",
    "kuva[1].set_xlabel('4l invariantti massa (GeV/c²)', fontsize = 10)\n",
    "kuva[1].set_ylabel('Tapahtumia\\n', fontsize = 10)\n",
    "kuva[1].set_ylim(0,25)\n",
    "\n",
    "plt.show()"
   ]
  },
  {
   "cell_type": "markdown",
   "metadata": {},
   "source": [
    "Kuvaajissa näkyy joitakin massan alueita, joissa on enemmän tapahtumia kuin muissa, mutta emme pysty kuitenkaan tekemään varmoja johtopäätöksiä Higgsin olemassaolosta tästä kuvasta.\n",
    "\n",
    "Otetaan tutkimuksemme avuksi simulaatioita. Jos tunnemme joitain prosesseja, joita törmäyksissä tapahtuu, voimme vertailla niiden odotettavia tuloksia varsinaisiin mittauksiimme.\n",
    "\n",
    "Simulaatiodata vastaa eri \"hajoamiskanavista\" peräisin olevien neljän leptonin massajakaumia."
   ]
  },
  {
   "cell_type": "code",
   "execution_count": null,
   "metadata": {},
   "outputs": [],
   "source": [
    "dy = np.array([0,0,0,0,0,0.354797,0.177398,2.60481,0,0,0,0,0,0,0,0,0,0.177398,0.177398,0,0.177398,0,0,0,0,0,0,0,0,0,0,0,0.177398,0,0,0,0])\n",
    "ttbar = np.array([0.00465086,0,0.00465086,0,0,0,0,0,0,0,0.00465086,0,0,0,0,0,0.00465086,0,0,0,0,0.00465086,0.00465086,0,0,0.0139526,0,0,0.00465086,0,0,0,0.00465086,0.00465086,0.0139526,0,0])\n",
    "zz = np.array([0.181215,0.257161,0.44846,0.830071,1.80272,4.57354,13.9677,14.0178,4.10974,1.58934,0.989974,0.839775,0.887188,0.967021,1.07882,1.27942,1.36681,1.4333,1.45141,1.41572,1.51464,1.45026,1.47328,1.42899,1.38757,1.33561,1.3075,1.29831,1.31402,1.30672,1.36442,1.39256,1.43472,1.58321,1.85313,2.19304,2.95083])\n",
    "hzz = np.array([0.00340992,0.00450225,0.00808944,0.0080008,0.00801578,0.0108945,0.00794274,0.00950757,0.0130648,0.0163568,0.0233832,0.0334813,0.0427229,0.0738129,0.13282,0.256384,0.648352,2.38742,4.87193,0.944299,0.155005,0.0374193,0.0138906,0.00630364,0.00419265,0.00358719,0.00122527,0.000885718,0.000590479,0.000885718,0.000797085,8.86337e-05,0.000501845,8.86337e-05,0.000546162,4.43168e-05,8.86337e-05])\n",
    "print(\"Simulaatiodata on nyt valmis\")"
   ]
  },
  {
   "cell_type": "markdown",
   "metadata": {},
   "source": [
    "Katsotaanpa millaisia kuvaajia nämä tuottavat."
   ]
  },
  {
   "cell_type": "code",
   "execution_count": null,
   "metadata": {},
   "outputs": [],
   "source": [
    "fig, kuva = plt.subplots(2, 2, figsize=(16, 12))\n",
    "\n",
    "kuva[0,0].bar(center, zz, align = 'center', width = width, color = 'b', linewidth = 0, edgecolor = 'black', alpha = 0.5)\n",
    "kuva[0,0].set_title('Pari raskaampaa bosonia '+r'ZZ $\\rightarrow$ 4l', fontsize = 12)\n",
    "kuva[0,0].set_xlabel('4l invariantti massa (GeV/c²)', fontsize = 10)\n",
    "kuva[0,0].set_ylabel('Tapahtumia / 3 GeV/c²\\n', fontsize = 10)\n",
    "kuva[0,0].set_xlim(rmin,rmax)\n",
    "kuva[0,0].set_ylim(0,25)\n",
    "\n",
    "kuva[0,1].bar(center, dy, align = 'center', width = width, color = 'g', linewidth = 0, edgecolor = 'black', alpha = 0.5)\n",
    "kuva[0,1].set_title('Yksittäisistä Z-bosoneista koostuvia tapahtumia Z/$\\gamma^{*}$ + X', fontsize = 12)\n",
    "kuva[0,1].set_xlabel('4l invariantti massa (GeV/c²)', fontsize = 10)\n",
    "kuva[0,1].set_ylabel('Tapahtumia / 3 GeV/c²\\n', fontsize = 10)\n",
    "kuva[0,1].set_xlim(rmin,rmax)\n",
    "kuva[0,1].set_ylim(0,25)\n",
    "\n",
    "kuva[1,0].bar(center, ttbar, align = 'center', width = width, color = 'gray', linewidth = 0, edgecolor = 'b', alpha = 0.5)\n",
    "kuva[1,0].set_title('Top- ja antitopkvarkkien pari '+r'$t\\bar{t}$', fontsize = 12)\n",
    "kuva[1,0].set_xlabel('4l invariantti massa (GeV/c²)', fontsize = 10)\n",
    "kuva[1,0].set_ylabel('Tapahtumia / 3 GeV/c² HUOM skaalaus! \\n', fontsize = 10)\n",
    "kuva[1,0].set_xlim(rmin,rmax)\n",
    "kuva[1,0].set_ylim(0,0.25)\n",
    "\n",
    "kuva[1,1].bar(center, hzz, align = 'center', width = width, color = 'w', linewidth = 1, edgecolor = 'r')\n",
    "kuva[1,1].set_title('Teoreettinen oletus Higgsin bosonin muodolle 125 GeV/c²in kohdalla', fontsize = 12)\n",
    "kuva[1,1].set_xlabel('4l invariantti massa (GeV/c²)', fontsize = 10)\n",
    "kuva[1,1].set_ylabel('Tapahtumia / 3 GeV/c²\\n', fontsize = 10)\n",
    "kuva[1,1].set_xlim(rmin,rmax)\n",
    "kuva[1,1].set_ylim(0,25)\n",
    "\n",
    "plt.show()"
   ]
  },
  {
   "cell_type": "markdown",
   "metadata": {},
   "source": [
    "Selvästi ainakin 90 GeV/c²in tietämillä on tapahtumia, mikä käy järkeen huomioiden suurimman osan tuloksista syntyvän Z-bosonien kautta, joiden massa on noin 90 GeV/c². \n",
    "Otetaanpa sitten mukaan myös itse mittaukset. Miten hyvin kuvat vastaavat toisiaan?"
   ]
  },
  {
   "cell_type": "code",
   "execution_count": null,
   "metadata": {},
   "outputs": [],
   "source": [
    "plt.figure(figsize = (10,5))\n",
    "\n",
    "xerrs = [width*0.5 for i in range(0, nbins)]\n",
    "yerrs = np.sqrt(hist)\n",
    "\n",
    "# ttbar \n",
    "ttbar_bar = plt.bar(center, ttbar, align = 'center', width = width, color = 'gray', linewidth = 0, edgecolor = 'b',\n",
    "                    alpha = 0.5, label = r'$t\\bar{t}$')\n",
    "\n",
    "# DY\n",
    "dy_bar = plt.bar(center, dy, align = 'center', width = width, color = 'g', linewidth = 0, edgecolor = 'black',\n",
    "                 alpha = 0.5, bottom = ttbar, label = 'Z/$\\gamma^{*}$ + X')\n",
    "\n",
    "# ZZ\n",
    "zz_bar = plt.bar(center, zz, align = 'center', width = width, color = 'b', linewidth = 0, edgecolor = 'black',\n",
    "                 alpha = 0.5, bottom = ttbar+dy, label = r'ZZ $\\rightarrow$ 4l')\n",
    "\n",
    "# HZZ\n",
    "hzz_bar = plt.bar(center, hzz, align = 'center', width = width, color = 'w', linewidth = 1, edgecolor = 'r',\n",
    "                  bottom = ttbar+dy+zz, label = '$m_{H}$ = 125 GeV/c²')\n",
    "\n",
    "# Mittaukset.\n",
    "data_bar = plt.errorbar(center, hist, xerr = xerrs, yerr = yerrs, linestyle = 'None', color = 'black',\n",
    "                        marker = 'o', label = 'Data')\n",
    "\n",
    "plt.title('$ \\sqrt{s} = 7$ TeV/c², L = 2.3 $fb^{-1}$; $\\sqrt{s} = 8$ TeV/c², L = 11.6 $fb^{-1}$ \\n', fontsize = 12)\n",
    "plt.xlabel('$m_{4l}$ (GeV/c²)', fontsize = 10)\n",
    "plt.ylabel('Tapahtumia / 3 GeV/c²\\n', fontsize = 10)\n",
    "plt.ylim(0,25)\n",
    "plt.xlim(rmin,rmax)\n",
    "plt.legend(fontsize = 12)\n",
    "\n",
    "plt.show()"
   ]
  },
  {
   "cell_type": "markdown",
   "metadata": {},
   "source": [
    "Huomaamme selvästi, että 125 GeV/c²in kieppeillä on Higgsin bosonin teoriaan sopivia havaintoja. Tuloksemme ovat melko samansuuntaisia kuin varsinaiset CMS:n analyysitkin:\n",
    "\n",
    "<img src = 'https://inspirehep.net/files/6d3aa0c4fbefece34158f7f0c6e2e818' align = 'left'  width = 320>"
   ]
  }
 ],
 "metadata": {
  "kernelspec": {
   "display_name": "Python 3",
   "language": "python",
   "name": "python3"
  },
  "language_info": {
   "codemirror_mode": {
    "name": "ipython",
    "version": 3
   },
   "file_extension": ".py",
   "mimetype": "text/x-python",
   "name": "python",
   "nbconvert_exporter": "python",
   "pygments_lexer": "ipython3",
   "version": "3.8.5"
  }
 },
 "nbformat": 4,
 "nbformat_minor": 4
}
